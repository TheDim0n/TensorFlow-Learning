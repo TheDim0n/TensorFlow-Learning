{
 "cells": [
  {
   "cell_type": "code",
   "execution_count": 1,
   "source": [
    "import tensorflow as tf"
   ],
   "outputs": [],
   "metadata": {}
  },
  {
   "cell_type": "code",
   "execution_count": 2,
   "source": [
    "print(f\"TensorFlow (v{tf.version.VERSION})\")"
   ],
   "outputs": [
    {
     "output_type": "stream",
     "name": "stdout",
     "text": [
      "TensorFlow (v2.6.0)\n"
     ]
    }
   ],
   "metadata": {}
  },
  {
   "cell_type": "markdown",
   "source": [
    "# Sequential model"
   ],
   "metadata": {}
  },
  {
   "cell_type": "code",
   "execution_count": 3,
   "source": [
    "sequential_model_1 = tf.keras.Sequential(\r\n",
    "    [\r\n",
    "        tf.keras.layers.Dense(10, activation='relu', name='layer_1', input_shape=(20,)),\r\n",
    "        tf.keras.layers.Dense(5, activation='tanh', name='layer_2'),\r\n",
    "        tf.keras.layers.Dense(1, activation='sigmoid', name='layer_3'),\r\n",
    "    ],\r\n",
    "    name=\"sequential_model_1\"\r\n",
    ")\r\n",
    "\r\n",
    "sequential_model_1.summary()"
   ],
   "outputs": [
    {
     "output_type": "stream",
     "name": "stdout",
     "text": [
      "Model: \"sequential_model_1\"\n",
      "_________________________________________________________________\n",
      "Layer (type)                 Output Shape              Param #   \n",
      "=================================================================\n",
      "layer_1 (Dense)              (None, 10)                210       \n",
      "_________________________________________________________________\n",
      "layer_2 (Dense)              (None, 5)                 55        \n",
      "_________________________________________________________________\n",
      "layer_3 (Dense)              (None, 1)                 6         \n",
      "=================================================================\n",
      "Total params: 271\n",
      "Trainable params: 271\n",
      "Non-trainable params: 0\n",
      "_________________________________________________________________\n"
     ]
    }
   ],
   "metadata": {}
  },
  {
   "cell_type": "markdown",
   "source": [
    "### or"
   ],
   "metadata": {}
  },
  {
   "cell_type": "code",
   "execution_count": 4,
   "source": [
    "sequential_model_2 = tf.keras.Sequential(\r\n",
    "    [\r\n",
    "        tf.keras.layers.InputLayer((20,)),\r\n",
    "        tf.keras.layers.Dense(10, activation='relu', name='layer_1'),\r\n",
    "        tf.keras.layers.Dense(5, activation='tanh', name='layer_2'),\r\n",
    "        tf.keras.layers.Dense(1, activation='sigmoid', name='layer_3'),\r\n",
    "    ],\r\n",
    "    name=\"sequential_model_2\"\r\n",
    ")\r\n",
    "\r\n",
    "sequential_model_2.summary()"
   ],
   "outputs": [
    {
     "output_type": "stream",
     "name": "stdout",
     "text": [
      "Model: \"sequential_model_2\"\n",
      "_________________________________________________________________\n",
      "Layer (type)                 Output Shape              Param #   \n",
      "=================================================================\n",
      "layer_1 (Dense)              (None, 10)                210       \n",
      "_________________________________________________________________\n",
      "layer_2 (Dense)              (None, 5)                 55        \n",
      "_________________________________________________________________\n",
      "layer_3 (Dense)              (None, 1)                 6         \n",
      "=================================================================\n",
      "Total params: 271\n",
      "Trainable params: 271\n",
      "Non-trainable params: 0\n",
      "_________________________________________________________________\n"
     ]
    }
   ],
   "metadata": {}
  },
  {
   "cell_type": "markdown",
   "source": [
    "### or"
   ],
   "metadata": {}
  },
  {
   "cell_type": "code",
   "execution_count": 5,
   "source": [
    "sequential_model_3 = tf.keras.Sequential(name=\"sequential_model_3\")\r\n",
    "sequential_model_3.add(tf.keras.layers.Dense(10, activation='relu', name='layer_1', input_shape=(20,)))\r\n",
    "sequential_model_3.add(tf.keras.layers.Dense(5, activation='tanh', name='layer_2'))\r\n",
    "sequential_model_3.add(tf.keras.layers.Dense(1, activation='sigmoid', name='layer_3'))\r\n",
    "sequential_model_3.summary()"
   ],
   "outputs": [
    {
     "output_type": "stream",
     "name": "stdout",
     "text": [
      "Model: \"sequential_model_3\"\n",
      "_________________________________________________________________\n",
      "Layer (type)                 Output Shape              Param #   \n",
      "=================================================================\n",
      "layer_1 (Dense)              (None, 10)                210       \n",
      "_________________________________________________________________\n",
      "layer_2 (Dense)              (None, 5)                 55        \n",
      "_________________________________________________________________\n",
      "layer_3 (Dense)              (None, 1)                 6         \n",
      "=================================================================\n",
      "Total params: 271\n",
      "Trainable params: 271\n",
      "Non-trainable params: 0\n",
      "_________________________________________________________________\n"
     ]
    }
   ],
   "metadata": {}
  },
  {
   "cell_type": "markdown",
   "source": [
    "### or"
   ],
   "metadata": {}
  },
  {
   "cell_type": "code",
   "execution_count": 6,
   "source": [
    "sequential_model_4 = tf.keras.Sequential(name=\"sequential_model_4\")\r\n",
    "sequential_model_4.add(tf.keras.layers.InputLayer((20,)))\r\n",
    "sequential_model_4.add(tf.keras.layers.Dense(10, activation='relu', name='layer_1'))\r\n",
    "sequential_model_4.add(tf.keras.layers.Dense(5, activation='tanh', name='layer_2'))\r\n",
    "sequential_model_4.add(tf.keras.layers.Dense(1, activation='sigmoid', name='layer_3'))\r\n",
    "sequential_model_4.summary()"
   ],
   "outputs": [
    {
     "output_type": "stream",
     "name": "stdout",
     "text": [
      "Model: \"sequential_model_4\"\n",
      "_________________________________________________________________\n",
      "Layer (type)                 Output Shape              Param #   \n",
      "=================================================================\n",
      "layer_1 (Dense)              (None, 10)                210       \n",
      "_________________________________________________________________\n",
      "layer_2 (Dense)              (None, 5)                 55        \n",
      "_________________________________________________________________\n",
      "layer_3 (Dense)              (None, 1)                 6         \n",
      "=================================================================\n",
      "Total params: 271\n",
      "Trainable params: 271\n",
      "Non-trainable params: 0\n",
      "_________________________________________________________________\n"
     ]
    }
   ],
   "metadata": {}
  },
  {
   "cell_type": "markdown",
   "source": [
    "# Functional API"
   ],
   "metadata": {}
  },
  {
   "cell_type": "code",
   "execution_count": 7,
   "source": [
    "inputs = tf.keras.Input((20,))\r\n",
    "outputs = tf.keras.layers.Dense(10, activation='relu', name='layer_1')(inputs)\r\n",
    "outputs = tf.keras.layers.Dense(5, activation=\"tanh\", name=\"layer_2\")(outputs)\r\n",
    "outputs = tf.keras.layers.Dense(1, activation='sigmoid', name='layer_3')(outputs)\r\n",
    "sequential_model_5 = tf.keras.Model(inputs, outputs)\r\n",
    "\r\n",
    "sequential_model_5.summary()"
   ],
   "outputs": [
    {
     "output_type": "stream",
     "name": "stdout",
     "text": [
      "Model: \"model\"\n",
      "_________________________________________________________________\n",
      "Layer (type)                 Output Shape              Param #   \n",
      "=================================================================\n",
      "input_3 (InputLayer)         [(None, 20)]              0         \n",
      "_________________________________________________________________\n",
      "layer_1 (Dense)              (None, 10)                210       \n",
      "_________________________________________________________________\n",
      "layer_2 (Dense)              (None, 5)                 55        \n",
      "_________________________________________________________________\n",
      "layer_3 (Dense)              (None, 1)                 6         \n",
      "=================================================================\n",
      "Total params: 271\n",
      "Trainable params: 271\n",
      "Non-trainable params: 0\n",
      "_________________________________________________________________\n"
     ]
    }
   ],
   "metadata": {}
  },
  {
   "cell_type": "code",
   "execution_count": 8,
   "source": [
    "inputs.shape"
   ],
   "outputs": [
    {
     "output_type": "execute_result",
     "data": {
      "text/plain": [
       "TensorShape([None, 20])"
      ]
     },
     "metadata": {},
     "execution_count": 8
    }
   ],
   "metadata": {}
  },
  {
   "cell_type": "code",
   "execution_count": 9,
   "source": [
    "inputs.dtype"
   ],
   "outputs": [
    {
     "output_type": "execute_result",
     "data": {
      "text/plain": [
       "tf.float32"
      ]
     },
     "metadata": {},
     "execution_count": 9
    }
   ],
   "metadata": {}
  },
  {
   "cell_type": "code",
   "execution_count": 10,
   "source": [
    "tf.keras.utils.plot_model(sequential_model_5, show_shapes=True)"
   ],
   "outputs": [
    {
     "output_type": "execute_result",
     "data": {
      "image/png": "[encoded data removed]",
      "text/plain": [
       "<IPython.core.display.Image object>"
      ]
     },
     "metadata": {},
     "execution_count": 10
    }
   ],
   "metadata": {}
  },
  {
   "cell_type": "code",
   "execution_count": 11,
   "source": [
    "car_input = tf.keras.Input(shape=(None,), name=\"car\")\r\n",
    "equipment_input = tf.keras.Input(shape=(None,), name=\"equipment\")\r\n",
    "\r\n",
    "car_features = tf.keras.layers.Embedding(1000, 20, name=\"car_features\")(car_input)\r\n",
    "equipment_features = tf.keras.layers.Embedding(10000, 64, name=\"equipment_features\")(equipment_input)\r\n",
    "\r\n",
    "concat = tf.keras.layers.concatenate([car_features, equipment_features], name=\"concat\")\r\n",
    "\r\n",
    "x = tf.keras.layers.Dense(100, activation='relu')(concat)\r\n",
    "price_output = tf.keras.layers.Dense(1, name=\"price_output\")(x)\r\n",
    "category_output = tf.keras.layers.Dense(2, activation=\"softmax\", name=\"category_output\")(x)\r\n",
    "\r\n",
    "multiple_inputs_model = tf.keras.Model(\r\n",
    "    inputs=[car_input, equipment_input],\r\n",
    "    outputs=[price_output, category_output]\r\n",
    ")\r\n",
    "\r\n",
    "tf.keras.utils.plot_model(multiple_inputs_model, show_shapes=True)"
   ],
   "outputs": [
    {
     "output_type": "execute_result",
     "data": {
      "image/png": "[encoded data removed]",
      "text/plain": [
       "<IPython.core.display.Image object>"
      ]
     },
     "metadata": {},
     "execution_count": 11
    }
   ],
   "metadata": {}
  },
  {
   "cell_type": "code",
   "execution_count": 12,
   "source": [
    "multiple_inputs_model.summary()"
   ],
   "outputs": [
    {
     "output_type": "stream",
     "name": "stdout",
     "text": [
      "Model: \"model_1\"\n",
      "__________________________________________________________________________________________________\n",
      "Layer (type)                    Output Shape         Param #     Connected to                     \n",
      "==================================================================================================\n",
      "car (InputLayer)                [(None, None)]       0                                            \n",
      "__________________________________________________________________________________________________\n",
      "equipment (InputLayer)          [(None, None)]       0                                            \n",
      "__________________________________________________________________________________________________\n",
      "car_features (Embedding)        (None, None, 20)     20000       car[0][0]                        \n",
      "__________________________________________________________________________________________________\n",
      "equipment_features (Embedding)  (None, None, 64)     640000      equipment[0][0]                  \n",
      "__________________________________________________________________________________________________\n",
      "concat (Concatenate)            (None, None, 84)     0           car_features[0][0]               \n",
      "                                                                 equipment_features[0][0]         \n",
      "__________________________________________________________________________________________________\n",
      "dense (Dense)                   (None, None, 100)    8500        concat[0][0]                     \n",
      "__________________________________________________________________________________________________\n",
      "price_output (Dense)            (None, None, 1)      101         dense[0][0]                      \n",
      "__________________________________________________________________________________________________\n",
      "category_output (Dense)         (None, None, 2)      202         dense[0][0]                      \n",
      "==================================================================================================\n",
      "Total params: 668,803\n",
      "Trainable params: 668,803\n",
      "Non-trainable params: 0\n",
      "__________________________________________________________________________________________________\n"
     ]
    }
   ],
   "metadata": {}
  },
  {
   "cell_type": "code",
   "execution_count": 13,
   "source": [
    "multiple_inputs_model.compile(\r\n",
    "    optimizer=tf.keras.optimizers.Adam(),\r\n",
    "    loss=[\r\n",
    "        tf.keras.losses.MeanSquaredError(),\r\n",
    "        tf.keras.losses.SparseCategoricalCrossentropy(),\r\n",
    "    ],\r\n",
    "    loss_weights=[1.0, 0.7]\r\n",
    ")"
   ],
   "outputs": [],
   "metadata": {}
  },
  {
   "cell_type": "markdown",
   "source": [
    "### or"
   ],
   "metadata": {}
  },
  {
   "cell_type": "code",
   "execution_count": 14,
   "source": [
    "multiple_inputs_model.compile(\r\n",
    "    optimizer=tf.keras.optimizers.Adam(),\r\n",
    "    loss={\r\n",
    "        \"price_output\": tf.keras.losses.MeanSquaredError(),\r\n",
    "        \"category_output\": tf.keras.losses.SparseCategoricalCrossentropy(),\r\n",
    "    },\r\n",
    "    loss_weights={\r\n",
    "        \"price_output\": 1.0,\r\n",
    "        \"category_output\": 0.7\r\n",
    "    }\r\n",
    ")"
   ],
   "outputs": [],
   "metadata": {}
  }
 ],
 "metadata": {
  "orig_nbformat": 4,
  "language_info": {
   "name": "python",
   "version": "3.7.9",
   "mimetype": "text/x-python",
   "codemirror_mode": {
    "name": "ipython",
    "version": 3
   },
   "pygments_lexer": "ipython3",
   "nbconvert_exporter": "python",
   "file_extension": ".py"
  },
  "kernelspec": {
   "name": "python3",
   "display_name": "Python 3.7.9 64-bit ('tfenv': venv)"
  },
  "interpreter": {
   "hash": "e8250ac04ae39ec2659d89fea9df3e29398a70e8163a2c098505d395ade54faf"
  }
 },
 "nbformat": 4,
 "nbformat_minor": 2
}